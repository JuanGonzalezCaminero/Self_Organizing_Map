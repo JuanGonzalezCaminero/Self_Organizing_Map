{
 "cells": [
  {
   "cell_type": "code",
   "execution_count": 10,
   "metadata": {},
   "outputs": [],
   "source": [
    "import numpy as np\n",
    "import math"
   ]
  },
  {
   "cell_type": "code",
   "execution_count": 26,
   "metadata": {},
   "outputs": [],
   "source": [
    "def normalize_vector(vector):\n",
    "    '''\n",
    "    Returns the normalized vector of the provided one, a length 1\n",
    "    vector with the same direction as the original.\n",
    "    '''\n",
    "    vector = np.array(vector)\n",
    "    return (vector/math.sqrt(np.sum(pow(vector, 2)))).tolist()"
   ]
  },
  {
   "cell_type": "code",
   "execution_count": 27,
   "metadata": {},
   "outputs": [],
   "source": [
    "def extended_normalization(vector):\n",
    "    '''\n",
    "    When two vectors of different lengths but in the same direction are normalized, \n",
    "    the result will be the same for both of them.\n",
    "    \n",
    "    In order to avoid collisions of normalized vectors, an extended normalization can\n",
    "    be applied, where an extra dimension is added to the vector to be normalized. By\n",
    "    adding a component of length 1 in the new dimension and normalizing the result,\n",
    "    it is ensured that no two vectors which were originally in the same dimensions\n",
    "    will produce the same output.\n",
    "    '''\n",
    "    vector = np.append(vector, 1)\n",
    "    return (vector/math.sqrt(np.sum(pow(vector, 2)))).tolist()"
   ]
  },
  {
   "cell_type": "code",
   "execution_count": 6,
   "metadata": {},
   "outputs": [],
   "source": [
    "class SOM:\n",
    "    def __init__ (self, dimensions):\n",
    "        '''\n",
    "        dimensions - Array-like, containing the size of the output\n",
    "        layer in each dimension.\n",
    "        '''\n",
    "        self.dimensions = dimensions\n",
    "        return\n",
    "    def weight_initialisation(self, x, y):\n",
    "        return\n",
    "    def fit(self, X):\n",
    "        return\n",
    "    def predict(self, X):\n",
    "        return"
   ]
  },
  {
   "cell_type": "code",
   "execution_count": 9,
   "metadata": {},
   "outputs": [
    {
     "data": {
      "text/plain": [
       "[10, 10]"
      ]
     },
     "execution_count": 9,
     "metadata": {},
     "output_type": "execute_result"
    }
   ],
   "source": [
    "som = SOM([10, 10])\n",
    "som.dimensions"
   ]
  },
  {
   "cell_type": "code",
   "execution_count": null,
   "metadata": {},
   "outputs": [],
   "source": []
  },
  {
   "cell_type": "code",
   "execution_count": null,
   "metadata": {},
   "outputs": [],
   "source": []
  },
  {
   "cell_type": "code",
   "execution_count": null,
   "metadata": {},
   "outputs": [],
   "source": []
  },
  {
   "cell_type": "code",
   "execution_count": null,
   "metadata": {},
   "outputs": [],
   "source": []
  },
  {
   "cell_type": "code",
   "execution_count": null,
   "metadata": {},
   "outputs": [],
   "source": []
  },
  {
   "cell_type": "code",
   "execution_count": null,
   "metadata": {},
   "outputs": [],
   "source": []
  },
  {
   "cell_type": "code",
   "execution_count": null,
   "metadata": {},
   "outputs": [],
   "source": []
  },
  {
   "cell_type": "code",
   "execution_count": null,
   "metadata": {},
   "outputs": [],
   "source": []
  },
  {
   "cell_type": "code",
   "execution_count": null,
   "metadata": {},
   "outputs": [],
   "source": []
  }
 ],
 "metadata": {
  "kernelspec": {
   "display_name": "Python 3",
   "language": "python",
   "name": "python3"
  },
  "language_info": {
   "codemirror_mode": {
    "name": "ipython",
    "version": 3
   },
   "file_extension": ".py",
   "mimetype": "text/x-python",
   "name": "python",
   "nbconvert_exporter": "python",
   "pygments_lexer": "ipython3",
   "version": "3.7.3"
  }
 },
 "nbformat": 4,
 "nbformat_minor": 2
}
