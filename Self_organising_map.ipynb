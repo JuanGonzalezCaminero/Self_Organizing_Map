{
 "cells": [
  {
   "cell_type": "code",
   "execution_count": 312,
   "metadata": {},
   "outputs": [],
   "source": [
    "import numpy as np\n",
    "import math\n",
    "import random\n",
    "import itertools\n",
    "from scipy.spatial import distance"
   ]
  },
  {
   "cell_type": "code",
   "execution_count": 26,
   "metadata": {},
   "outputs": [],
   "source": [
    "def normalize_vector(vector):\n",
    "    '''\n",
    "    Returns the normalized vector of the provided one, a length 1\n",
    "    vector with the same direction as the original.\n",
    "    '''\n",
    "    vector = np.array(vector)\n",
    "    return (vector/math.sqrt(np.sum(pow(vector, 2)))).tolist()"
   ]
  },
  {
   "cell_type": "code",
   "execution_count": 27,
   "metadata": {},
   "outputs": [],
   "source": [
    "def extended_normalization(vector):\n",
    "    '''\n",
    "    When two vectors of different lengths but in the same direction are normalized, \n",
    "    the result will be the same for both of them.\n",
    "    \n",
    "    In order to avoid collisions of normalized vectors, an extended normalization can\n",
    "    be applied, where an extra dimension is added to the vector to be normalized. By\n",
    "    adding a component of length 1 in the new dimension and normalizing the result,\n",
    "    it is ensured that no two vectors which were originally in the same dimensions\n",
    "    will produce the same output.\n",
    "    '''\n",
    "    vector = np.append(vector, 1)\n",
    "    return (vector/math.sqrt(np.sum(pow(vector, 2)))).tolist()"
   ]
  },
  {
   "cell_type": "code",
   "execution_count": 285,
   "metadata": {},
   "outputs": [],
   "source": [
    "def get_random_unit_vector(components):\n",
    "    '''\n",
    "    Returns a random vector of length 1 with the required number of components\n",
    "    '''\n",
    "    return normalize_vector([random.random() for i in range(components)])"
   ]
  },
  {
   "cell_type": "code",
   "execution_count": 320,
   "metadata": {},
   "outputs": [],
   "source": [
    "class SOM:\n",
    "    def __init__ (self, dimensions, topology='rectangular'):\n",
    "        '''\n",
    "        dimensions - Array-like, containing the size of the output\n",
    "        layer in each dimension.\n",
    "        \n",
    "        topology - The neighborhood relation between output-layer neurons.\n",
    "        The default topology is rectangular. A future improvement would be\n",
    "        to implement a hexagonal topology option.\n",
    "        '''\n",
    "        self.dimensions = dimensions\n",
    "        self.output_layer = None\n",
    "        return\n",
    "    def __weight_initialization(self, num_attr):\n",
    "        '''\n",
    "        Initializes the output layer to a matrix with the dimensions specified\n",
    "        for this map, filled with random unit vectors of dimension num_attr\n",
    "        \n",
    "        num_attr - The number of attributes of the instances this network will\n",
    "        be trained with\n",
    "        '''\n",
    "        self.output_layer = np.zeros(self.dimensions, dtype=object)\n",
    "        #List with the indexes in each dimension, the cartesian product of\n",
    "        #the lists of indexes is a list with the coordinates to all the \n",
    "        #positions of the output layer matrix\n",
    "        indexes_list = [list(range(i)) for i in self.dimensions]\n",
    "        for i in itertools.product(*indexes_list):\n",
    "            self.output_layer[i] = get_random_unit_vector(num_attr)\n",
    "        #Maybe cast the output layer to a regular list here?\n",
    "        return\n",
    "    def __get_output(self, instance):\n",
    "        '''\n",
    "        Calculates the output of each neuron for the provided instance.\n",
    "        Returns a matrix with the same dimensions as the output layer\n",
    "        containing the outputs\n",
    "        '''\n",
    "        output_matrix = np.zeros(self.dimensions)\n",
    "        indexes_list = [list(range(i)) for i in self.dimensions]\n",
    "        for i in itertools.product(*indexes_list):\n",
    "            output_matrix[i] = distance.euclidean(instance, self.output_layer[i])\n",
    "        return output_matrix\n",
    "    def fit(self, X):\n",
    "        '''\n",
    "        Initializes the output layer neurons to random unit vectors, normalizes\n",
    "        the input vectors, and applies the learning algorithm to the input data, X\n",
    "        \n",
    "        X - The data to train the algorithm on\n",
    "        '''\n",
    "        #Since extended normalization will be used, the inputs will have an extra \n",
    "        #dimension, which is why I add 1 here so the output layer vectors will have\n",
    "        #the number of attributes of an instance plus 1 components\n",
    "        #Weight initialization\n",
    "        self.__weight_initialization(len(X[0]) + 1)\n",
    "        #Input data normalization\n",
    "        X = [extended_normalization(v) for v in X]\n",
    "        return\n",
    "    def predict(self, X):\n",
    "        return"
   ]
  },
  {
   "cell_type": "code",
   "execution_count": 321,
   "metadata": {},
   "outputs": [
    {
     "name": "stdout",
     "output_type": "stream",
     "text": [
      "[[0.53140069 0.51116351 0.72665888 0.73221617 0.7292312  0.86187053\n",
      "  0.44459233 0.61899012 0.28914073 0.32783975]\n",
      " [0.86321128 0.47212694 0.63517854 0.39726114 0.49018556 0.39903435\n",
      "  0.81732227 0.33392835 0.31594633 0.67033569]\n",
      " [0.51503338 0.65596931 0.50915807 0.65641837 0.84149039 0.85581515\n",
      "  0.44771864 0.6389543  0.23241105 0.8517861 ]\n",
      " [0.76746164 0.52308567 0.22763683 0.83707329 0.42804748 0.60934735\n",
      "  0.57815097 0.51359833 0.68521157 0.32442415]\n",
      " [0.3391126  0.64695869 1.02234237 0.41947211 0.53070272 0.6239535\n",
      "  0.79567247 0.57043079 0.3622835  0.30863071]\n",
      " [0.43454482 0.80096401 0.61395274 0.73393951 0.85132763 0.66673545\n",
      "  0.58908355 0.42468788 0.51606853 0.64086274]\n",
      " [0.58397869 0.74652279 0.80623368 0.11474954 0.91032243 0.90334074\n",
      "  0.63410124 0.81507237 0.64493158 0.65846022]\n",
      " [0.58516662 0.60209856 0.81805269 0.70397758 0.21841631 0.16183329\n",
      "  0.8806946  0.62784617 0.36279974 0.45393279]\n",
      " [0.68567305 0.5740729  0.72375571 0.48739988 0.68899788 0.83228789\n",
      "  0.86068491 0.27667666 0.84104769 0.41286974]\n",
      " [0.36156316 0.59347544 0.52179838 0.4309835  0.51113696 0.70116922\n",
      "  1.05894106 0.86901244 0.61017817 0.74706275]]\n"
     ]
    }
   ],
   "source": [
    "som = SOM([10, 10])\n",
    "som.fit(data)"
   ]
  },
  {
   "cell_type": "code",
   "execution_count": 298,
   "metadata": {},
   "outputs": [],
   "source": [
    "data = [[1,2,3],\n",
    "        [1,1,1],\n",
    "        [2,3,4],\n",
    "        [4,2,4],\n",
    "        [2,2,5]]"
   ]
  },
  {
   "cell_type": "code",
   "execution_count": null,
   "metadata": {},
   "outputs": [],
   "source": []
  },
  {
   "cell_type": "code",
   "execution_count": null,
   "metadata": {},
   "outputs": [],
   "source": []
  },
  {
   "cell_type": "code",
   "execution_count": null,
   "metadata": {},
   "outputs": [],
   "source": []
  }
 ],
 "metadata": {
  "kernelspec": {
   "display_name": "Python 3",
   "language": "python",
   "name": "python3"
  },
  "language_info": {
   "codemirror_mode": {
    "name": "ipython",
    "version": 3
   },
   "file_extension": ".py",
   "mimetype": "text/x-python",
   "name": "python",
   "nbconvert_exporter": "python",
   "pygments_lexer": "ipython3",
   "version": "3.7.3"
  }
 },
 "nbformat": 4,
 "nbformat_minor": 2
}
