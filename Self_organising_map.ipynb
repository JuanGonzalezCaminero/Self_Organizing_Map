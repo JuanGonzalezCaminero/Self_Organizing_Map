{
 "cells": [
  {
   "cell_type": "code",
   "execution_count": 275,
   "metadata": {},
   "outputs": [],
   "source": [
    "import numpy as np\n",
    "import math\n",
    "import random\n",
    "import itertools"
   ]
  },
  {
   "cell_type": "code",
   "execution_count": 26,
   "metadata": {},
   "outputs": [],
   "source": [
    "def normalize_vector(vector):\n",
    "    '''\n",
    "    Returns the normalized vector of the provided one, a length 1\n",
    "    vector with the same direction as the original.\n",
    "    '''\n",
    "    vector = np.array(vector)\n",
    "    return (vector/math.sqrt(np.sum(pow(vector, 2)))).tolist()"
   ]
  },
  {
   "cell_type": "code",
   "execution_count": 27,
   "metadata": {},
   "outputs": [],
   "source": [
    "def extended_normalization(vector):\n",
    "    '''\n",
    "    When two vectors of different lengths but in the same direction are normalized, \n",
    "    the result will be the same for both of them.\n",
    "    \n",
    "    In order to avoid collisions of normalized vectors, an extended normalization can\n",
    "    be applied, where an extra dimension is added to the vector to be normalized. By\n",
    "    adding a component of length 1 in the new dimension and normalizing the result,\n",
    "    it is ensured that no two vectors which were originally in the same dimensions\n",
    "    will produce the same output.\n",
    "    '''\n",
    "    vector = np.append(vector, 1)\n",
    "    return (vector/math.sqrt(np.sum(pow(vector, 2)))).tolist()"
   ]
  },
  {
   "cell_type": "code",
   "execution_count": 285,
   "metadata": {},
   "outputs": [],
   "source": [
    "def get_random_unit_vector(components):\n",
    "    '''\n",
    "    Returns a random vector of length 1 with the required number of components\n",
    "    '''\n",
    "    return normalize_vector([random.random() for i in range(components)])"
   ]
  },
  {
   "cell_type": "code",
   "execution_count": 295,
   "metadata": {},
   "outputs": [],
   "source": [
    "class SOM:\n",
    "    def __init__ (self, dimensions, topology='rectangular'):\n",
    "        '''\n",
    "        dimensions - Array-like, containing the size of the output\n",
    "        layer in each dimension.\n",
    "        \n",
    "        topology - The neighborhood relation between output-layer neurons.\n",
    "        The default topology is rectangular. A future improvement would be\n",
    "        to implement a hexagonal topology option.\n",
    "        '''\n",
    "        self.dimensions = dimensions\n",
    "        self.output_layer = None\n",
    "        return\n",
    "    def __weight_initialization(self, num_attr):\n",
    "        '''\n",
    "        Initializes the output layer to a matrix with the dimensions specified\n",
    "        for this map, filled with random unit vectors of dimension num_attr\n",
    "        \n",
    "        num_attr - The number of attributes of the instances this network will\n",
    "        be trained with\n",
    "        '''\n",
    "        self.output_layer = np.zeros(self.dimensions, dtype=object)\n",
    "        #List with the indexes in each dimension, the cartesian product of\n",
    "        #the lists of indexes is a list with the coordinates to all the \n",
    "        #positions of the output layer matrix\n",
    "        indexes_list = [list(range(i)) for i in self.dimensions]\n",
    "        for i in itertools.product(*c):\n",
    "            self.output_layer[i] = get_random_unit_vector(num_attr)\n",
    "        #Maybe cast the output layer to a regular list here?\n",
    "        return\n",
    "    def fit(self, X):\n",
    "        '''\n",
    "        Initializes the output layer neurons to random unit vectors, normalizes\n",
    "        the input vectors, and applies the learning algorithm to the input data, X\n",
    "        \n",
    "        X - The data to train the algorithm on\n",
    "        '''\n",
    "        \n",
    "        return\n",
    "    def predict(self, X):\n",
    "        return"
   ]
  },
  {
   "cell_type": "code",
   "execution_count": 9,
   "metadata": {},
   "outputs": [
    {
     "data": {
      "text/plain": [
       "[10, 10]"
      ]
     },
     "execution_count": 9,
     "metadata": {},
     "output_type": "execute_result"
    }
   ],
   "source": [
    "som = SOM([10, 10])\n",
    "som.dimensions"
   ]
  },
  {
   "cell_type": "code",
   "execution_count": 292,
   "metadata": {},
   "outputs": [
    {
     "data": {
      "text/plain": [
       "[[0, 1, 2, 3, 4], [0, 1, 2, 3, 4], [0, 1]]"
      ]
     },
     "execution_count": 292,
     "metadata": {},
     "output_type": "execute_result"
    }
   ],
   "source": [
    "a = [5,5,2]\n",
    "b = np.zeros(a, dtype=object)\n",
    "c = [list(range(i)) for i in a]\n",
    "c"
   ]
  },
  {
   "cell_type": "code",
   "execution_count": 288,
   "metadata": {
    "collapsed": true
   },
   "outputs": [
    {
     "data": {
      "text/plain": [
       "[(0, 0, 0),\n",
       " (0, 0, 1),\n",
       " (0, 1, 0),\n",
       " (0, 1, 1),\n",
       " (0, 2, 0),\n",
       " (0, 2, 1),\n",
       " (0, 3, 0),\n",
       " (0, 3, 1),\n",
       " (0, 4, 0),\n",
       " (0, 4, 1),\n",
       " (1, 0, 0),\n",
       " (1, 0, 1),\n",
       " (1, 1, 0),\n",
       " (1, 1, 1),\n",
       " (1, 2, 0),\n",
       " (1, 2, 1),\n",
       " (1, 3, 0),\n",
       " (1, 3, 1),\n",
       " (1, 4, 0),\n",
       " (1, 4, 1),\n",
       " (2, 0, 0),\n",
       " (2, 0, 1),\n",
       " (2, 1, 0),\n",
       " (2, 1, 1),\n",
       " (2, 2, 0),\n",
       " (2, 2, 1),\n",
       " (2, 3, 0),\n",
       " (2, 3, 1),\n",
       " (2, 4, 0),\n",
       " (2, 4, 1),\n",
       " (3, 0, 0),\n",
       " (3, 0, 1),\n",
       " (3, 1, 0),\n",
       " (3, 1, 1),\n",
       " (3, 2, 0),\n",
       " (3, 2, 1),\n",
       " (3, 3, 0),\n",
       " (3, 3, 1),\n",
       " (3, 4, 0),\n",
       " (3, 4, 1),\n",
       " (4, 0, 0),\n",
       " (4, 0, 1),\n",
       " (4, 1, 0),\n",
       " (4, 1, 1),\n",
       " (4, 2, 0),\n",
       " (4, 2, 1),\n",
       " (4, 3, 0),\n",
       " (4, 3, 1),\n",
       " (4, 4, 0),\n",
       " (4, 4, 1)]"
      ]
     },
     "execution_count": 288,
     "metadata": {},
     "output_type": "execute_result"
    }
   ],
   "source": [
    "list(itertools.product(*c))"
   ]
  },
  {
   "cell_type": "code",
   "execution_count": 296,
   "metadata": {},
   "outputs": [
    {
     "data": {
      "text/plain": [
       "[[[[0.42708452594761376, 0.9042117051311059],\n",
       "   [0.352298543624886, 0.9358876728324743]],\n",
       "  [[0.8465763663339984, 0.5322672786906252],\n",
       "   [0.6470691435316981, 0.7624313237853982]],\n",
       "  [[0.6885172277522906, 0.7252199853067346],\n",
       "   [0.7125164138760516, 0.7016554424767268]],\n",
       "  [[0.9818507180680359, 0.18965539124760522],\n",
       "   [0.96086962401379, 0.2770010210226631]],\n",
       "  [[0.9693272453252745, 0.24577365902414156],\n",
       "   [0.24466971095777804, 0.9696064833425143]]],\n",
       " [[[0.5221714787969362, 0.8528405165862026],\n",
       "   [0.9692005726220504, 0.2462727147474715]],\n",
       "  [[0.6194530820795171, 0.785033680234286],\n",
       "   [0.2683761116274688, 0.9633142076745885]],\n",
       "  [[0.7474048077826118, 0.6643689135589032],\n",
       "   [0.30081337512200657, 0.9536830256158002]],\n",
       "  [[0.33437885555244745, 0.9424387412237654],\n",
       "   [0.8991535209948935, 0.4376333461728956]],\n",
       "  [[0.13890951889632475, 0.9903050770141449],\n",
       "   [0.9662347433404377, 0.25766338653723886]]],\n",
       " [[[0.19156946889618884, 0.9814790566216032],\n",
       "   [0.35986735743150755, 0.933003475371482]],\n",
       "  [[0.7606837256739191, 0.6491226921737105],\n",
       "   [0.7407729192624853, 0.6717555225581219]],\n",
       "  [[0.9945597649271283, 0.10416752847262566],\n",
       "   [0.9257998127586045, 0.3780141620311771]],\n",
       "  [[0.9495302245001854, 0.313675553335971],\n",
       "   [0.93828734048524, 0.34585671409578733]],\n",
       "  [[0.6565124091120013, 0.7543152236843402],\n",
       "   [0.882822529772857, 0.46970669670066756]]],\n",
       " [[[0.8855227550452123, 0.46459600762074654],\n",
       "   [0.25586602352125654, 0.9667122519175082]],\n",
       "  [[0.26336815013360376, 0.9646954014066843],\n",
       "   [0.9332302700566623, 0.35927880963114067]],\n",
       "  [[0.7119661541739701, 0.7022137817721369],\n",
       "   [0.48581926858975655, 0.8740592876154992]],\n",
       "  [[0.9060815847087123, 0.42310301564955594],\n",
       "   [0.5129862287433611, 0.8583968366202568]],\n",
       "  [[0.3468484364571108, 0.9379211918531629],\n",
       "   [0.7559486423789927, 0.6546309266184708]]],\n",
       " [[[0.9860684194414715, 0.16634023019161145],\n",
       "   [0.6979395849291973, 0.7161566419358685]],\n",
       "  [[0.732636428089418, 0.6806202055745767],\n",
       "   [0.9858760790506762, 0.1674764364191716]],\n",
       "  [[0.9446123219461737, 0.32818830147867584],\n",
       "   [0.5570786222479915, 0.8304597573839924]],\n",
       "  [[0.61878337763983, 0.785561666297843],\n",
       "   [0.7047763522803836, 0.7094295548300456]],\n",
       "  [[0.9360058510684485, 0.3519844410845877],\n",
       "   [0.6774102811399789, 0.7356054044158828]]]]"
      ]
     },
     "execution_count": 296,
     "metadata": {},
     "output_type": "execute_result"
    }
   ],
   "source": [
    "for i in itertools.product(*c):\n",
    "    b[i] = get_random_unit_vector(2)\n",
    "b.tolist()"
   ]
  },
  {
   "cell_type": "code",
   "execution_count": null,
   "metadata": {},
   "outputs": [],
   "source": []
  },
  {
   "cell_type": "code",
   "execution_count": null,
   "metadata": {},
   "outputs": [],
   "source": []
  },
  {
   "cell_type": "code",
   "execution_count": null,
   "metadata": {},
   "outputs": [],
   "source": []
  },
  {
   "cell_type": "code",
   "execution_count": null,
   "metadata": {},
   "outputs": [],
   "source": []
  }
 ],
 "metadata": {
  "kernelspec": {
   "display_name": "Python 3",
   "language": "python",
   "name": "python3"
  },
  "language_info": {
   "codemirror_mode": {
    "name": "ipython",
    "version": 3
   },
   "file_extension": ".py",
   "mimetype": "text/x-python",
   "name": "python",
   "nbconvert_exporter": "python",
   "pygments_lexer": "ipython3",
   "version": "3.7.3"
  }
 },
 "nbformat": 4,
 "nbformat_minor": 2
}
